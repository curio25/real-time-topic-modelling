{
 "cells": [
  {
   "cell_type": "markdown",
   "metadata": {},
   "source": [
    "# How to use BERTopic"
   ]
  },
  {
   "cell_type": "markdown",
   "metadata": {},
   "source": [
    "## Pre-Requisites"
   ]
  },
  {
   "cell_type": "code",
   "execution_count": 2,
   "metadata": {},
   "outputs": [
    {
     "name": "stderr",
     "output_type": "stream",
     "text": [
      "/Users/shubhigupta/Documents/GitHub/real-time-topic-modelling/venv/lib/python3.12/site-packages/tqdm/auto.py:21: TqdmWarning: IProgress not found. Please update jupyter and ipywidgets. See https://ipywidgets.readthedocs.io/en/stable/user_install.html\n",
      "  from .autonotebook import tqdm as notebook_tqdm\n"
     ]
    }
   ],
   "source": [
    "from bertopic import BERTopic"
   ]
  },
  {
   "cell_type": "markdown",
   "metadata": {},
   "source": [
    "## Using an Existing Model - BERTopic_Wikipedia"
   ]
  },
  {
   "cell_type": "code",
   "execution_count": 3,
   "metadata": {},
   "outputs": [],
   "source": [
    "topic_model = BERTopic.load(\"MaartenGr/BERTopic_Wikipedia\")"
   ]
  },
  {
   "cell_type": "markdown",
   "metadata": {},
   "source": [
    "Once loaded, you can use BERTopic’s features to predict the topics for new instances:"
   ]
  },
  {
   "cell_type": "code",
   "execution_count": 5,
   "metadata": {},
   "outputs": [
    {
     "name": "stderr",
     "output_type": "stream",
     "text": [
      "Batches: 100%|██████████| 1/1 [00:00<00:00, 15.94it/s]\n",
      "2024-08-01 17:23:06,140 - BERTopic - Predicting topic assignments through cosine similarity of topic and document embeddings.\n"
     ]
    }
   ],
   "source": [
    "topic, prob = topic_model.transform(\"This is an incredible movie!\")"
   ]
  },
  {
   "cell_type": "markdown",
   "metadata": {},
   "source": [
    "Which gives us the following topic:"
   ]
  },
  {
   "cell_type": "code",
   "execution_count": 7,
   "metadata": {},
   "outputs": [
    {
     "name": "stdout",
     "output_type": "stream",
     "text": [
      "64_rating_rated_cinematography_film\n"
     ]
    }
   ],
   "source": [
    "topic_index = topic[0]\n",
    "label = topic_model.topic_labels_[topic_index]\n",
    "print(label)"
   ]
  },
  {
   "cell_type": "markdown",
   "metadata": {},
   "source": [
    "## Quick Start - SKLearn fetch_20newsgroups Dataset"
   ]
  },
  {
   "cell_type": "markdown",
   "metadata": {},
   "source": [
    "We start by extracting topics from the well-known 20 newsgroups dataset containing English documents:"
   ]
  },
  {
   "cell_type": "code",
   "execution_count": 8,
   "metadata": {},
   "outputs": [],
   "source": [
    "from sklearn.datasets import fetch_20newsgroups\n",
    "docs = fetch_20newsgroups(subset='all',  remove=('headers', 'footers', 'quotes'))['data']"
   ]
  },
  {
   "cell_type": "code",
   "execution_count": 9,
   "metadata": {},
   "outputs": [],
   "source": [
    "topic_model = BERTopic()"
   ]
  },
  {
   "cell_type": "code",
   "execution_count": 10,
   "metadata": {},
   "outputs": [
    {
     "name": "stderr",
     "output_type": "stream",
     "text": [
      "OMP: Info #276: omp_set_nested routine deprecated, please use omp_set_max_active_levels instead.\n",
      "huggingface/tokenizers: The current process just got forked, after parallelism has already been used. Disabling parallelism to avoid deadlocks...\n",
      "To disable this warning, you can either:\n",
      "\t- Avoid using `tokenizers` before the fork if possible\n",
      "\t- Explicitly set the environment variable TOKENIZERS_PARALLELISM=(true | false)\n",
      "huggingface/tokenizers: The current process just got forked, after parallelism has already been used. Disabling parallelism to avoid deadlocks...\n",
      "To disable this warning, you can either:\n",
      "\t- Avoid using `tokenizers` before the fork if possible\n",
      "\t- Explicitly set the environment variable TOKENIZERS_PARALLELISM=(true | false)\n",
      "huggingface/tokenizers: The current process just got forked, after parallelism has already been used. Disabling parallelism to avoid deadlocks...\n",
      "To disable this warning, you can either:\n",
      "\t- Avoid using `tokenizers` before the fork if possible\n",
      "\t- Explicitly set the environment variable TOKENIZERS_PARALLELISM=(true | false)\n",
      "huggingface/tokenizers: The current process just got forked, after parallelism has already been used. Disabling parallelism to avoid deadlocks...\n",
      "To disable this warning, you can either:\n",
      "\t- Avoid using `tokenizers` before the fork if possible\n",
      "\t- Explicitly set the environment variable TOKENIZERS_PARALLELISM=(true | false)\n",
      "huggingface/tokenizers: The current process just got forked, after parallelism has already been used. Disabling parallelism to avoid deadlocks...\n",
      "To disable this warning, you can either:\n",
      "\t- Avoid using `tokenizers` before the fork if possible\n",
      "\t- Explicitly set the environment variable TOKENIZERS_PARALLELISM=(true | false)\n"
     ]
    }
   ],
   "source": [
    "topics, probs = topic_model.fit_transform(docs)"
   ]
  },
  {
   "cell_type": "markdown",
   "metadata": {},
   "source": [
    "After generating topics and their probabilities, we can access the frequent topics that were generated:"
   ]
  },
  {
   "cell_type": "code",
   "execution_count": 11,
   "metadata": {},
   "outputs": [
    {
     "data": {
      "text/html": [
       "<div>\n",
       "<style scoped>\n",
       "    .dataframe tbody tr th:only-of-type {\n",
       "        vertical-align: middle;\n",
       "    }\n",
       "\n",
       "    .dataframe tbody tr th {\n",
       "        vertical-align: top;\n",
       "    }\n",
       "\n",
       "    .dataframe thead th {\n",
       "        text-align: right;\n",
       "    }\n",
       "</style>\n",
       "<table border=\"1\" class=\"dataframe\">\n",
       "  <thead>\n",
       "    <tr style=\"text-align: right;\">\n",
       "      <th></th>\n",
       "      <th>Topic</th>\n",
       "      <th>Count</th>\n",
       "      <th>Name</th>\n",
       "      <th>Representation</th>\n",
       "      <th>Representative_Docs</th>\n",
       "    </tr>\n",
       "  </thead>\n",
       "  <tbody>\n",
       "    <tr>\n",
       "      <th>0</th>\n",
       "      <td>-1</td>\n",
       "      <td>6554</td>\n",
       "      <td>-1_to_the_and_of</td>\n",
       "      <td>[to, the, and, of, is, for, it, you, in, that]</td>\n",
       "      <td>[\\n\\nI assume you are posting to encourage com...</td>\n",
       "    </tr>\n",
       "    <tr>\n",
       "      <th>1</th>\n",
       "      <td>0</td>\n",
       "      <td>1828</td>\n",
       "      <td>0_game_team_games_he</td>\n",
       "      <td>[game, team, games, he, players, season, hocke...</td>\n",
       "      <td>[Scoring stats for the Swedish NHL players, Ap...</td>\n",
       "    </tr>\n",
       "    <tr>\n",
       "      <th>2</th>\n",
       "      <td>1</td>\n",
       "      <td>603</td>\n",
       "      <td>1_key_clipper_chip_encryption</td>\n",
       "      <td>[key, clipper, chip, encryption, keys, escrow,...</td>\n",
       "      <td>[The following document summarizes the Clipper...</td>\n",
       "    </tr>\n",
       "    <tr>\n",
       "      <th>3</th>\n",
       "      <td>2</td>\n",
       "      <td>524</td>\n",
       "      <td>2_ites_cheek_yep_huh</td>\n",
       "      <td>[ites, cheek, yep, huh, ken, why, each, of, , ]</td>\n",
       "      <td>[\\nHuh?, \\nYep.\\n, \\n \\n                      ...</td>\n",
       "    </tr>\n",
       "    <tr>\n",
       "      <th>4</th>\n",
       "      <td>3</td>\n",
       "      <td>469</td>\n",
       "      <td>3_fbi_batf_koresh_fire</td>\n",
       "      <td>[fbi, batf, koresh, fire, compound, they, gas,...</td>\n",
       "      <td>[From article &lt;C5sEGz.Mwr@dscomsa.desy.de&gt;, by...</td>\n",
       "    </tr>\n",
       "    <tr>\n",
       "      <th>...</th>\n",
       "      <td>...</td>\n",
       "      <td>...</td>\n",
       "      <td>...</td>\n",
       "      <td>...</td>\n",
       "      <td>...</td>\n",
       "    </tr>\n",
       "    <tr>\n",
       "      <th>206</th>\n",
       "      <td>205</td>\n",
       "      <td>10</td>\n",
       "      <td>205_memory_shared_server_pixmaps</td>\n",
       "      <td>[memory, shared, server, pixmaps, xputimage, e...</td>\n",
       "      <td>[\\n  There's documentation on how to use the s...</td>\n",
       "    </tr>\n",
       "    <tr>\n",
       "      <th>207</th>\n",
       "      <td>206</td>\n",
       "      <td>10</td>\n",
       "      <td>206_c610_610_centris_iivx</td>\n",
       "      <td>[c610, 610, centris, iivx, problems, dealer, a...</td>\n",
       "      <td>[\\n\\n\\n\\n\\nSounds to me like your dealer reall...</td>\n",
       "    </tr>\n",
       "    <tr>\n",
       "      <th>208</th>\n",
       "      <td>207</td>\n",
       "      <td>10</td>\n",
       "      <td>207_xterm_f1_xterms_bold</td>\n",
       "      <td>[xterm, f1, xterms, bold, 0x0, 0xffbe, directi...</td>\n",
       "      <td>[\\n\\n\\n\\nI have tried that with one font, if y...</td>\n",
       "    </tr>\n",
       "    <tr>\n",
       "      <th>209</th>\n",
       "      <td>208</td>\n",
       "      <td>10</td>\n",
       "      <td>208_error_chimes_simm_memory</td>\n",
       "      <td>[error, chimes, simm, memory, ami, parity, sim...</td>\n",
       "      <td>[In the last two weeks I have the following pr...</td>\n",
       "    </tr>\n",
       "    <tr>\n",
       "      <th>210</th>\n",
       "      <td>209</td>\n",
       "      <td>10</td>\n",
       "      <td>209_mosques_jerusalem_bc_jews</td>\n",
       "      <td>[mosques, jerusalem, bc, jews, synagogues, des...</td>\n",
       "      <td>[Bill Coleman writes...\\n \\n(responding to a d...</td>\n",
       "    </tr>\n",
       "  </tbody>\n",
       "</table>\n",
       "<p>211 rows × 5 columns</p>\n",
       "</div>"
      ],
      "text/plain": [
       "     Topic  Count                              Name  \\\n",
       "0       -1   6554                  -1_to_the_and_of   \n",
       "1        0   1828              0_game_team_games_he   \n",
       "2        1    603     1_key_clipper_chip_encryption   \n",
       "3        2    524              2_ites_cheek_yep_huh   \n",
       "4        3    469            3_fbi_batf_koresh_fire   \n",
       "..     ...    ...                               ...   \n",
       "206    205     10  205_memory_shared_server_pixmaps   \n",
       "207    206     10         206_c610_610_centris_iivx   \n",
       "208    207     10          207_xterm_f1_xterms_bold   \n",
       "209    208     10      208_error_chimes_simm_memory   \n",
       "210    209     10     209_mosques_jerusalem_bc_jews   \n",
       "\n",
       "                                        Representation  \\\n",
       "0       [to, the, and, of, is, for, it, you, in, that]   \n",
       "1    [game, team, games, he, players, season, hocke...   \n",
       "2    [key, clipper, chip, encryption, keys, escrow,...   \n",
       "3      [ites, cheek, yep, huh, ken, why, each, of, , ]   \n",
       "4    [fbi, batf, koresh, fire, compound, they, gas,...   \n",
       "..                                                 ...   \n",
       "206  [memory, shared, server, pixmaps, xputimage, e...   \n",
       "207  [c610, 610, centris, iivx, problems, dealer, a...   \n",
       "208  [xterm, f1, xterms, bold, 0x0, 0xffbe, directi...   \n",
       "209  [error, chimes, simm, memory, ami, parity, sim...   \n",
       "210  [mosques, jerusalem, bc, jews, synagogues, des...   \n",
       "\n",
       "                                   Representative_Docs  \n",
       "0    [\\n\\nI assume you are posting to encourage com...  \n",
       "1    [Scoring stats for the Swedish NHL players, Ap...  \n",
       "2    [The following document summarizes the Clipper...  \n",
       "3    [\\nHuh?, \\nYep.\\n, \\n \\n                      ...  \n",
       "4    [From article <C5sEGz.Mwr@dscomsa.desy.de>, by...  \n",
       "..                                                 ...  \n",
       "206  [\\n  There's documentation on how to use the s...  \n",
       "207  [\\n\\n\\n\\n\\nSounds to me like your dealer reall...  \n",
       "208  [\\n\\n\\n\\nI have tried that with one font, if y...  \n",
       "209  [In the last two weeks I have the following pr...  \n",
       "210  [Bill Coleman writes...\\n \\n(responding to a d...  \n",
       "\n",
       "[211 rows x 5 columns]"
      ]
     },
     "execution_count": 11,
     "metadata": {},
     "output_type": "execute_result"
    }
   ],
   "source": [
    "topic_model.get_topic_info()"
   ]
  },
  {
   "cell_type": "markdown",
   "metadata": {},
   "source": [
    "-1 refers to all outliers and should typically be ignored. Next, let's take a look at the most frequent topic that was generated, topic 0:"
   ]
  },
  {
   "cell_type": "code",
   "execution_count": 12,
   "metadata": {},
   "outputs": [
    {
     "data": {
      "text/plain": [
       "[('game', 0.010557916154626177),\n",
       " ('team', 0.009186449229913312),\n",
       " ('games', 0.007314238534349736),\n",
       " ('he', 0.007248888118315507),\n",
       " ('players', 0.006405204912641511),\n",
       " ('season', 0.006322366930246725),\n",
       " ('hockey', 0.006207963248642722),\n",
       " ('play', 0.005879832801609422),\n",
       " ('25', 0.005752403395946006),\n",
       " ('year', 0.005714676939247958)]"
      ]
     },
     "execution_count": 12,
     "metadata": {},
     "output_type": "execute_result"
    }
   ],
   "source": [
    "topic_model.get_topic(0)"
   ]
  },
  {
   "cell_type": "markdown",
   "metadata": {},
   "source": [
    "Using .get_document_info, we can also extract information on a document level, such as their corresponding topics, probabilities, whether they are representative documents for a topic, etc.:"
   ]
  },
  {
   "cell_type": "code",
   "execution_count": 13,
   "metadata": {},
   "outputs": [
    {
     "data": {
      "text/html": [
       "<div>\n",
       "<style scoped>\n",
       "    .dataframe tbody tr th:only-of-type {\n",
       "        vertical-align: middle;\n",
       "    }\n",
       "\n",
       "    .dataframe tbody tr th {\n",
       "        vertical-align: top;\n",
       "    }\n",
       "\n",
       "    .dataframe thead th {\n",
       "        text-align: right;\n",
       "    }\n",
       "</style>\n",
       "<table border=\"1\" class=\"dataframe\">\n",
       "  <thead>\n",
       "    <tr style=\"text-align: right;\">\n",
       "      <th></th>\n",
       "      <th>Document</th>\n",
       "      <th>Topic</th>\n",
       "      <th>Name</th>\n",
       "      <th>Representation</th>\n",
       "      <th>Representative_Docs</th>\n",
       "      <th>Top_n_words</th>\n",
       "      <th>Probability</th>\n",
       "      <th>Representative_document</th>\n",
       "    </tr>\n",
       "  </thead>\n",
       "  <tbody>\n",
       "    <tr>\n",
       "      <th>0</th>\n",
       "      <td>\\n\\nI am sure some bashers of Pens fans are pr...</td>\n",
       "      <td>0</td>\n",
       "      <td>0_game_team_games_he</td>\n",
       "      <td>[game, team, games, he, players, season, hocke...</td>\n",
       "      <td>[Scoring stats for the Swedish NHL players, Ap...</td>\n",
       "      <td>game - team - games - he - players - season - ...</td>\n",
       "      <td>1.000000</td>\n",
       "      <td>False</td>\n",
       "    </tr>\n",
       "    <tr>\n",
       "      <th>1</th>\n",
       "      <td>My brother is in the market for a high-perform...</td>\n",
       "      <td>4</td>\n",
       "      <td>4_card_monitor_video_drivers</td>\n",
       "      <td>[card, monitor, video, drivers, vga, monitors,...</td>\n",
       "      <td>[Hello all.\\n\\tI am thinking about buying an e...</td>\n",
       "      <td>card - monitor - video - drivers - vga - monit...</td>\n",
       "      <td>0.929315</td>\n",
       "      <td>False</td>\n",
       "    </tr>\n",
       "    <tr>\n",
       "      <th>2</th>\n",
       "      <td>\\n\\n\\n\\n\\tFinally you said what you dream abou...</td>\n",
       "      <td>-1</td>\n",
       "      <td>-1_to_the_and_of</td>\n",
       "      <td>[to, the, and, of, is, for, it, you, in, that]</td>\n",
       "      <td>[\\n\\nI assume you are posting to encourage com...</td>\n",
       "      <td>to - the - and - of - is - for - it - you - in...</td>\n",
       "      <td>0.000000</td>\n",
       "      <td>False</td>\n",
       "    </tr>\n",
       "    <tr>\n",
       "      <th>3</th>\n",
       "      <td>\\nThink!\\n\\nIt's the SCSI card doing the DMA t...</td>\n",
       "      <td>33</td>\n",
       "      <td>33_scsi_scsi2_scsi1_ide</td>\n",
       "      <td>[scsi, scsi2, scsi1, ide, controller, bus, tra...</td>\n",
       "      <td>[You are making the same mistake I did: you ar...</td>\n",
       "      <td>scsi - scsi2 - scsi1 - ide - controller - bus ...</td>\n",
       "      <td>0.569794</td>\n",
       "      <td>False</td>\n",
       "    </tr>\n",
       "    <tr>\n",
       "      <th>4</th>\n",
       "      <td>1)    I have an old Jasmine drive which I cann...</td>\n",
       "      <td>73</td>\n",
       "      <td>73_tape_backup_tapes_drive</td>\n",
       "      <td>[tape, backup, tapes, drive, device, wangdat, ...</td>\n",
       "      <td>[hello all- i have a problem with my micro sol...</td>\n",
       "      <td>tape - backup - tapes - drive - device - wangd...</td>\n",
       "      <td>0.596123</td>\n",
       "      <td>False</td>\n",
       "    </tr>\n",
       "    <tr>\n",
       "      <th>...</th>\n",
       "      <td>...</td>\n",
       "      <td>...</td>\n",
       "      <td>...</td>\n",
       "      <td>...</td>\n",
       "      <td>...</td>\n",
       "      <td>...</td>\n",
       "      <td>...</td>\n",
       "      <td>...</td>\n",
       "    </tr>\n",
       "    <tr>\n",
       "      <th>18841</th>\n",
       "      <td>DN&gt; From: nyeda@cnsvax.uwec.edu (David Nye)\\nD...</td>\n",
       "      <td>38</td>\n",
       "      <td>38_cancer_medical_doctor_medicine</td>\n",
       "      <td>[cancer, medical, doctor, medicine, patient, a...</td>\n",
       "      <td>[This will be the first of monthly postings of...</td>\n",
       "      <td>cancer - medical - doctor - medicine - patient...</td>\n",
       "      <td>0.757451</td>\n",
       "      <td>False</td>\n",
       "    </tr>\n",
       "    <tr>\n",
       "      <th>18842</th>\n",
       "      <td>\\nNot in isolated ground recepticles (usually ...</td>\n",
       "      <td>172</td>\n",
       "      <td>172_ground_grounding_conductor_neutral</td>\n",
       "      <td>[ground, grounding, conductor, neutral, wire, ...</td>\n",
       "      <td>[\\nNot according to the NEC nor the CEC, as ex...</td>\n",
       "      <td>ground - grounding - conductor - neutral - wir...</td>\n",
       "      <td>0.536640</td>\n",
       "      <td>False</td>\n",
       "    </tr>\n",
       "    <tr>\n",
       "      <th>18843</th>\n",
       "      <td>I just installed a DX2-66 CPU in a clone mothe...</td>\n",
       "      <td>81</td>\n",
       "      <td>81_fan_cpu_heat_sink</td>\n",
       "      <td>[fan, cpu, heat, sink, fans, cooling, chip, ho...</td>\n",
       "      <td>[N(P&gt;Just got a 66MHz 486DX2 system, and am co...</td>\n",
       "      <td>fan - cpu - heat - sink - fans - cooling - chi...</td>\n",
       "      <td>1.000000</td>\n",
       "      <td>False</td>\n",
       "    </tr>\n",
       "    <tr>\n",
       "      <th>18844</th>\n",
       "      <td>\\nWouldn't this require a hyper-sphere.  In 3-...</td>\n",
       "      <td>21</td>\n",
       "      <td>21_den_polygon_points_algorithm</td>\n",
       "      <td>[den, polygon, points, algorithm, xxxx, sphere...</td>\n",
       "      <td>[\\nSorry!! :-)\\n\\nCall the four points A, B, C...</td>\n",
       "      <td>den - polygon - points - algorithm - xxxx - sp...</td>\n",
       "      <td>1.000000</td>\n",
       "      <td>False</td>\n",
       "    </tr>\n",
       "    <tr>\n",
       "      <th>18845</th>\n",
       "      <td>After a tip from Gary Crum (crum@fcom.cc.utah....</td>\n",
       "      <td>17</td>\n",
       "      <td>17_car_cars_mustang_ford</td>\n",
       "      <td>[car, cars, mustang, ford, convertible, v8, s4...</td>\n",
       "      <td>[\\n\\n\\n\\nYou know, I'm a Ford fan, I must say,...</td>\n",
       "      <td>car - cars - mustang - ford - convertible - v8...</td>\n",
       "      <td>0.691110</td>\n",
       "      <td>False</td>\n",
       "    </tr>\n",
       "  </tbody>\n",
       "</table>\n",
       "<p>18846 rows × 8 columns</p>\n",
       "</div>"
      ],
      "text/plain": [
       "                                                Document  Topic  \\\n",
       "0      \\n\\nI am sure some bashers of Pens fans are pr...      0   \n",
       "1      My brother is in the market for a high-perform...      4   \n",
       "2      \\n\\n\\n\\n\\tFinally you said what you dream abou...     -1   \n",
       "3      \\nThink!\\n\\nIt's the SCSI card doing the DMA t...     33   \n",
       "4      1)    I have an old Jasmine drive which I cann...     73   \n",
       "...                                                  ...    ...   \n",
       "18841  DN> From: nyeda@cnsvax.uwec.edu (David Nye)\\nD...     38   \n",
       "18842  \\nNot in isolated ground recepticles (usually ...    172   \n",
       "18843  I just installed a DX2-66 CPU in a clone mothe...     81   \n",
       "18844  \\nWouldn't this require a hyper-sphere.  In 3-...     21   \n",
       "18845  After a tip from Gary Crum (crum@fcom.cc.utah....     17   \n",
       "\n",
       "                                         Name  \\\n",
       "0                        0_game_team_games_he   \n",
       "1                4_card_monitor_video_drivers   \n",
       "2                            -1_to_the_and_of   \n",
       "3                     33_scsi_scsi2_scsi1_ide   \n",
       "4                  73_tape_backup_tapes_drive   \n",
       "...                                       ...   \n",
       "18841       38_cancer_medical_doctor_medicine   \n",
       "18842  172_ground_grounding_conductor_neutral   \n",
       "18843                    81_fan_cpu_heat_sink   \n",
       "18844         21_den_polygon_points_algorithm   \n",
       "18845                17_car_cars_mustang_ford   \n",
       "\n",
       "                                          Representation  \\\n",
       "0      [game, team, games, he, players, season, hocke...   \n",
       "1      [card, monitor, video, drivers, vga, monitors,...   \n",
       "2         [to, the, and, of, is, for, it, you, in, that]   \n",
       "3      [scsi, scsi2, scsi1, ide, controller, bus, tra...   \n",
       "4      [tape, backup, tapes, drive, device, wangdat, ...   \n",
       "...                                                  ...   \n",
       "18841  [cancer, medical, doctor, medicine, patient, a...   \n",
       "18842  [ground, grounding, conductor, neutral, wire, ...   \n",
       "18843  [fan, cpu, heat, sink, fans, cooling, chip, ho...   \n",
       "18844  [den, polygon, points, algorithm, xxxx, sphere...   \n",
       "18845  [car, cars, mustang, ford, convertible, v8, s4...   \n",
       "\n",
       "                                     Representative_Docs  \\\n",
       "0      [Scoring stats for the Swedish NHL players, Ap...   \n",
       "1      [Hello all.\\n\\tI am thinking about buying an e...   \n",
       "2      [\\n\\nI assume you are posting to encourage com...   \n",
       "3      [You are making the same mistake I did: you ar...   \n",
       "4      [hello all- i have a problem with my micro sol...   \n",
       "...                                                  ...   \n",
       "18841  [This will be the first of monthly postings of...   \n",
       "18842  [\\nNot according to the NEC nor the CEC, as ex...   \n",
       "18843  [N(P>Just got a 66MHz 486DX2 system, and am co...   \n",
       "18844  [\\nSorry!! :-)\\n\\nCall the four points A, B, C...   \n",
       "18845  [\\n\\n\\n\\nYou know, I'm a Ford fan, I must say,...   \n",
       "\n",
       "                                             Top_n_words  Probability  \\\n",
       "0      game - team - games - he - players - season - ...     1.000000   \n",
       "1      card - monitor - video - drivers - vga - monit...     0.929315   \n",
       "2      to - the - and - of - is - for - it - you - in...     0.000000   \n",
       "3      scsi - scsi2 - scsi1 - ide - controller - bus ...     0.569794   \n",
       "4      tape - backup - tapes - drive - device - wangd...     0.596123   \n",
       "...                                                  ...          ...   \n",
       "18841  cancer - medical - doctor - medicine - patient...     0.757451   \n",
       "18842  ground - grounding - conductor - neutral - wir...     0.536640   \n",
       "18843  fan - cpu - heat - sink - fans - cooling - chi...     1.000000   \n",
       "18844  den - polygon - points - algorithm - xxxx - sp...     1.000000   \n",
       "18845  car - cars - mustang - ford - convertible - v8...     0.691110   \n",
       "\n",
       "       Representative_document  \n",
       "0                        False  \n",
       "1                        False  \n",
       "2                        False  \n",
       "3                        False  \n",
       "4                        False  \n",
       "...                        ...  \n",
       "18841                    False  \n",
       "18842                    False  \n",
       "18843                    False  \n",
       "18844                    False  \n",
       "18845                    False  \n",
       "\n",
       "[18846 rows x 8 columns]"
      ]
     },
     "execution_count": 13,
     "metadata": {},
     "output_type": "execute_result"
    }
   ],
   "source": [
    "topic_model.get_document_info(docs)"
   ]
  }
 ],
 "metadata": {
  "kernelspec": {
   "display_name": "venv",
   "language": "python",
   "name": "python3"
  },
  "language_info": {
   "codemirror_mode": {
    "name": "ipython",
    "version": 3
   },
   "file_extension": ".py",
   "mimetype": "text/x-python",
   "name": "python",
   "nbconvert_exporter": "python",
   "pygments_lexer": "ipython3",
   "version": "3.12.3"
  }
 },
 "nbformat": 4,
 "nbformat_minor": 2
}
