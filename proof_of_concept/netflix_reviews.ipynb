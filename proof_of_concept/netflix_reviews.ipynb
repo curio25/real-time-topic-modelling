{
 "cells": [
  {
   "cell_type": "markdown",
   "metadata": {},
   "source": [
    "# Proof Of Concept"
   ]
  },
  {
   "cell_type": "markdown",
   "metadata": {},
   "source": [
    "## Pre-Requisites"
   ]
  },
  {
   "cell_type": "code",
   "execution_count": 1,
   "metadata": {},
   "outputs": [
    {
     "name": "stderr",
     "output_type": "stream",
     "text": [
      "/Users/shubhigupta/Documents/GitHub/real-time-topic-modelling/venv/lib/python3.12/site-packages/tqdm/auto.py:21: TqdmWarning: IProgress not found. Please update jupyter and ipywidgets. See https://ipywidgets.readthedocs.io/en/stable/user_install.html\n",
      "  from .autonotebook import tqdm as notebook_tqdm\n"
     ]
    }
   ],
   "source": [
    "from bertopic import BERTopic"
   ]
  },
  {
   "cell_type": "code",
   "execution_count": 58,
   "metadata": {},
   "outputs": [],
   "source": [
    "import plotly.io as pio\n",
    "import pandas as pd\n",
    "import nbformat"
   ]
  },
  {
   "cell_type": "markdown",
   "metadata": {},
   "source": [
    "## Data"
   ]
  },
  {
   "cell_type": "code",
   "execution_count": 18,
   "metadata": {},
   "outputs": [
    {
     "name": "stdout",
     "output_type": "stream",
     "text": [
      "<class 'pandas.core.frame.DataFrame'>\n",
      "RangeIndex: 113626 entries, 0 to 113625\n",
      "Data columns (total 8 columns):\n",
      " #   Column                Non-Null Count   Dtype \n",
      "---  ------                --------------   ----- \n",
      " 0   reviewId              113626 non-null  object\n",
      " 1   userName              113624 non-null  object\n",
      " 2   content               113624 non-null  object\n",
      " 3   score                 113626 non-null  int64 \n",
      " 4   thumbsUpCount         113626 non-null  int64 \n",
      " 5   reviewCreatedVersion  96986 non-null   object\n",
      " 6   at                    113626 non-null  object\n",
      " 7   appVersion            96986 non-null   object\n",
      "dtypes: int64(2), object(6)\n",
      "memory usage: 6.9+ MB\n"
     ]
    }
   ],
   "source": [
    "df = pd.read_csv(\"../data/netflix_reviews.csv\")\n",
    "df.info()"
   ]
  },
  {
   "cell_type": "code",
   "execution_count": 19,
   "metadata": {},
   "outputs": [
    {
     "name": "stdout",
     "output_type": "stream",
     "text": [
      "<class 'pandas.core.frame.DataFrame'>\n",
      "RangeIndex: 113624 entries, 0 to 113623\n",
      "Data columns (total 8 columns):\n",
      " #   Column                Non-Null Count   Dtype \n",
      "---  ------                --------------   ----- \n",
      " 0   reviewId              113624 non-null  object\n",
      " 1   userName              113622 non-null  object\n",
      " 2   content               113624 non-null  object\n",
      " 3   score                 113624 non-null  int64 \n",
      " 4   thumbsUpCount         113624 non-null  int64 \n",
      " 5   reviewCreatedVersion  96985 non-null   object\n",
      " 6   at                    113624 non-null  object\n",
      " 7   appVersion            96985 non-null   object\n",
      "dtypes: int64(2), object(6)\n",
      "memory usage: 6.9+ MB\n"
     ]
    }
   ],
   "source": [
    "df = df.dropna(subset=['content'])\n",
    "df.reset_index(drop=True, inplace=True)\n",
    "df.info()"
   ]
  },
  {
   "cell_type": "code",
   "execution_count": 34,
   "metadata": {},
   "outputs": [
    {
     "name": "stdout",
     "output_type": "stream",
     "text": [
      "<class 'pandas.core.frame.DataFrame'>\n",
      "RangeIndex: 1000 entries, 0 to 999\n",
      "Data columns (total 8 columns):\n",
      " #   Column                Non-Null Count  Dtype \n",
      "---  ------                --------------  ----- \n",
      " 0   reviewId              1000 non-null   object\n",
      " 1   userName              1000 non-null   object\n",
      " 2   content               1000 non-null   object\n",
      " 3   score                 1000 non-null   int64 \n",
      " 4   thumbsUpCount         1000 non-null   int64 \n",
      " 5   reviewCreatedVersion  868 non-null    object\n",
      " 6   at                    1000 non-null   object\n",
      " 7   appVersion            868 non-null    object\n",
      "dtypes: int64(2), object(6)\n",
      "memory usage: 62.6+ KB\n"
     ]
    },
    {
     "data": {
      "text/html": [
       "<div>\n",
       "<style scoped>\n",
       "    .dataframe tbody tr th:only-of-type {\n",
       "        vertical-align: middle;\n",
       "    }\n",
       "\n",
       "    .dataframe tbody tr th {\n",
       "        vertical-align: top;\n",
       "    }\n",
       "\n",
       "    .dataframe thead th {\n",
       "        text-align: right;\n",
       "    }\n",
       "</style>\n",
       "<table border=\"1\" class=\"dataframe\">\n",
       "  <thead>\n",
       "    <tr style=\"text-align: right;\">\n",
       "      <th></th>\n",
       "      <th>reviewId</th>\n",
       "      <th>userName</th>\n",
       "      <th>content</th>\n",
       "      <th>score</th>\n",
       "      <th>thumbsUpCount</th>\n",
       "      <th>reviewCreatedVersion</th>\n",
       "      <th>at</th>\n",
       "      <th>appVersion</th>\n",
       "    </tr>\n",
       "  </thead>\n",
       "  <tbody>\n",
       "    <tr>\n",
       "      <th>0</th>\n",
       "      <td>1cf9ad0d-1d0b-4b7c-8b4c-d985e59f9ca1</td>\n",
       "      <td>Richard Law</td>\n",
       "      <td>It came pre-insralled I don't want it and it w...</td>\n",
       "      <td>1</td>\n",
       "      <td>0</td>\n",
       "      <td>NaN</td>\n",
       "      <td>2021-09-26 13:57:00</td>\n",
       "      <td>NaN</td>\n",
       "    </tr>\n",
       "    <tr>\n",
       "      <th>1</th>\n",
       "      <td>36f9a65a-88cc-431f-a915-4a72baed7ff1</td>\n",
       "      <td>s r</td>\n",
       "      <td>Needs a netflix lite app because this one no l...</td>\n",
       "      <td>3</td>\n",
       "      <td>1</td>\n",
       "      <td>8.7.0 build 9 40060</td>\n",
       "      <td>2021-11-23 17:24:31</td>\n",
       "      <td>8.7.0 build 9 40060</td>\n",
       "    </tr>\n",
       "    <tr>\n",
       "      <th>2</th>\n",
       "      <td>4ef70a8f-b049-4e59-a930-96fe0c28b965</td>\n",
       "      <td>Cameron Werner</td>\n",
       "      <td>They make you pay $7.50/month extra to use you...</td>\n",
       "      <td>1</td>\n",
       "      <td>3</td>\n",
       "      <td>8.96.1 build 16 50568</td>\n",
       "      <td>2023-12-31 04:13:27</td>\n",
       "      <td>8.96.1 build 16 50568</td>\n",
       "    </tr>\n",
       "    <tr>\n",
       "      <th>3</th>\n",
       "      <td>aa806eab-c919-48fd-a36e-21084b8cce91</td>\n",
       "      <td>Aliza Zaidi</td>\n",
       "      <td>Good I guess, doesn't have all the great movie...</td>\n",
       "      <td>4</td>\n",
       "      <td>0</td>\n",
       "      <td>7.83.0 build 25 35223</td>\n",
       "      <td>2020-12-06 03:25:20</td>\n",
       "      <td>7.83.0 build 25 35223</td>\n",
       "    </tr>\n",
       "    <tr>\n",
       "      <th>4</th>\n",
       "      <td>8c3cca29-888c-478f-ace2-20c1c20757e3</td>\n",
       "      <td>Shiva Lr</td>\n",
       "      <td>Worst app ever app too bad noo clear voice no ...</td>\n",
       "      <td>1</td>\n",
       "      <td>0</td>\n",
       "      <td>8.58.0 build 8 50362</td>\n",
       "      <td>2024-03-19 10:36:45</td>\n",
       "      <td>8.58.0 build 8 50362</td>\n",
       "    </tr>\n",
       "  </tbody>\n",
       "</table>\n",
       "</div>"
      ],
      "text/plain": [
       "                               reviewId        userName  \\\n",
       "0  1cf9ad0d-1d0b-4b7c-8b4c-d985e59f9ca1     Richard Law   \n",
       "1  36f9a65a-88cc-431f-a915-4a72baed7ff1             s r   \n",
       "2  4ef70a8f-b049-4e59-a930-96fe0c28b965  Cameron Werner   \n",
       "3  aa806eab-c919-48fd-a36e-21084b8cce91     Aliza Zaidi   \n",
       "4  8c3cca29-888c-478f-ace2-20c1c20757e3        Shiva Lr   \n",
       "\n",
       "                                             content  score  thumbsUpCount  \\\n",
       "0  It came pre-insralled I don't want it and it w...      1              0   \n",
       "1  Needs a netflix lite app because this one no l...      3              1   \n",
       "2  They make you pay $7.50/month extra to use you...      1              3   \n",
       "3  Good I guess, doesn't have all the great movie...      4              0   \n",
       "4  Worst app ever app too bad noo clear voice no ...      1              0   \n",
       "\n",
       "    reviewCreatedVersion                   at             appVersion  \n",
       "0                    NaN  2021-09-26 13:57:00                    NaN  \n",
       "1    8.7.0 build 9 40060  2021-11-23 17:24:31    8.7.0 build 9 40060  \n",
       "2  8.96.1 build 16 50568  2023-12-31 04:13:27  8.96.1 build 16 50568  \n",
       "3  7.83.0 build 25 35223  2020-12-06 03:25:20  7.83.0 build 25 35223  \n",
       "4   8.58.0 build 8 50362  2024-03-19 10:36:45   8.58.0 build 8 50362  "
      ]
     },
     "execution_count": 34,
     "metadata": {},
     "output_type": "execute_result"
    }
   ],
   "source": [
    "df_sample = df.sample(n=1000, random_state=42).reset_index(drop=True)\n",
    "df_sample.info()\n",
    "df_sample.head()"
   ]
  },
  {
   "cell_type": "markdown",
   "metadata": {},
   "source": [
    "## Model"
   ]
  },
  {
   "cell_type": "code",
   "execution_count": 35,
   "metadata": {},
   "outputs": [],
   "source": [
    "topic_model = BERTopic()\n",
    "topics, _ = topic_model.fit_transform(df_sample['content'].tolist())"
   ]
  },
  {
   "cell_type": "code",
   "execution_count": 36,
   "metadata": {},
   "outputs": [
    {
     "name": "stdout",
     "output_type": "stream",
     "text": [
      "Topic Information:\n",
      "     Topic  Count                              Name  \\\n",
      "0      -1    304                  -1_the_to_it_and   \n",
      "1       0    160                   0_app_and_to_it   \n",
      "2       1     79               1_it_app_error_open   \n",
      "3       2     59                2_video_the_fix_to   \n",
      "4       3     46       3_language_in_hindi_kannada   \n",
      "5       4     46         4_netflix_love_and_movies   \n",
      "6       5     45           5_netflix_open_this_and   \n",
      "7       6     32        6_seasons_shows_season_and   \n",
      "8       7     32          7_movies_love_shows_good   \n",
      "9       8     31               8_netflix_to_for_my   \n",
      "10      9     30           9_payment_card_my_debit   \n",
      "11     10     28             10_netflix_app_is_and   \n",
      "12     11     23  11_brightness_video_control_dark   \n",
      "13     12     21       12_account_my_email_netflix   \n",
      "14     13     17           13_good_martin_opp_braw   \n",
      "15     14     17     14_cast_chromecast_to_netflix   \n",
      "16     15     16        15_log_account_password_in   \n",
      "17     16     14             16_netflix_is_the_app   \n",
      "\n",
      "                                       Representation  \\\n",
      "0   [the, to, it, and, netflix, is, you, for, of, ...   \n",
      "1   [app, and, to, it, movies, the, this, watch, g...   \n",
      "2   [it, app, error, open, the, update, and, this,...   \n",
      "3   [video, the, fix, to, screen, on, audio, it, p...   \n",
      "4   [language, in, hindi, kannada, subtitles, avai...   \n",
      "5   [netflix, love, and, movies, watch, the, you, ...   \n",
      "6   [netflix, open, this, and, it, the, cant, my, ...   \n",
      "7   [seasons, shows, season, and, some, to, the, d...   \n",
      "8   [movies, love, shows, good, and, of, it, they,...   \n",
      "9   [netflix, to, for, my, they, of, are, streamin...   \n",
      "10  [payment, card, my, debit, membership, to, the...   \n",
      "11  [netflix, app, is, and, the, watch, can, you, ...   \n",
      "12  [brightness, video, control, dark, the, fixed,...   \n",
      "13  [account, my, email, netflix, sharing, to, and...   \n",
      "14  [good, martin, opp, braw, ngosa, best, pleasur...   \n",
      "15  [cast, chromecast, to, netflix, my, not, the, ...   \n",
      "16  [log, account, password, in, my, wrong, login,...   \n",
      "17  [netflix, is, the, app, use, this, or, time, a...   \n",
      "\n",
      "                                  Representative_Docs  \n",
      "0   [ok it's good and all and i love the movies an...  \n",
      "1   [The app is great. It has good movies you woul...  \n",
      "2   [Please fix that 5.8 error. It happens all the...  \n",
      "3   [For some reason it wont allow me to play the ...  \n",
      "4   [This app and content is very good. But of the...  \n",
      "5   [I love Netflix because you don't get any adve...  \n",
      "6   [I have a Samsung Galaxy J7 Star and I've been...  \n",
      "7   [They got rid of Black Butler season 1 I like ...  \n",
      "8   [They are like mostly all movies and it's not ...  \n",
      "9   [This is a review of its services. Netflix nee...  \n",
      "10  [I strongly un recommend this app. made the pa...  \n",
      "11  [What I like about this app: one thing I like ...  \n",
      "12  [I gave it 3 stars because it always plays the...  \n",
      "13  [In having an annoying issue, been with Netfli...  \n",
      "14                                 [Good, good, Good]  \n",
      "15  [Since the last update, I can't cast Netflix t...  \n",
      "16  [I can not log in to my account which is I put...  \n",
      "17  [Netflix you need to fix your bug were all pay...  \n"
     ]
    }
   ],
   "source": [
    "# Get topic information\n",
    "topics_info = topic_model.get_topic_info()\n",
    "\n",
    "# Display the topics\n",
    "print(\"Topic Information:\\n\", topics_info)"
   ]
  },
  {
   "cell_type": "code",
   "execution_count": 37,
   "metadata": {},
   "outputs": [
    {
     "name": "stdout",
     "output_type": "stream",
     "text": [
      "\n",
      "Topic -1:\n",
      "[('the', 0.0351835014585878), ('to', 0.03218639660099444), ('it', 0.03085384492435402), ('and', 0.028787137138304893), ('netflix', 0.026363759893671315), ('is', 0.025500548186002135), ('you', 0.02298012472608654), ('for', 0.0223788431292308), ('of', 0.022307836586967306), ('but', 0.02202515226690454)]\n",
      "\n",
      "Topic 0:\n",
      "[('app', 0.05271274946562883), ('and', 0.04041159139001731), ('to', 0.03571332023972341), ('it', 0.033584747546953904), ('movies', 0.03352807145210893), ('the', 0.03306600212972079), ('this', 0.031512671994573825), ('watch', 0.03050937480556882), ('great', 0.02756344424251322), ('of', 0.026117770340250958)]\n",
      "\n",
      "Topic 1:\n",
      "[('it', 0.0555007384096586), ('app', 0.048808558661489455), ('error', 0.041614351777782596), ('open', 0.03893972676875555), ('the', 0.03550685774483105), ('update', 0.03261710848509054), ('and', 0.030281719014699834), ('this', 0.029918414395424756), ('to', 0.029282129784543646), ('not', 0.028841935778380096)]\n",
      "\n",
      "Topic 2:\n",
      "[('video', 0.047901964283749016), ('the', 0.04366807242101615), ('fix', 0.035640182072157696), ('to', 0.03188757509345478), ('screen', 0.0315518516157881), ('on', 0.030963654900103707), ('audio', 0.02887943908110433), ('it', 0.0279125144211802), ('playing', 0.0270549007456409), ('play', 0.026768341468739038)]\n",
      "\n",
      "Topic 3:\n",
      "[('language', 0.07036586734172787), ('in', 0.06484234100237617), ('hindi', 0.05580283660418407), ('kannada', 0.04158784590046658), ('subtitles', 0.03927529662208216), ('available', 0.03342424613934434), ('dubbed', 0.033083437374409934), ('are', 0.03117188104071345), ('please', 0.03088080271383995), ('the', 0.0304432782404916)]\n"
     ]
    }
   ],
   "source": [
    "# Get the most frequent words for a specific topic\n",
    "for topic in topics_info.head(5).Topic:\n",
    "    print(f\"\\nTopic {topic}:\")\n",
    "    print(topic_model.get_topic(topic))\n"
   ]
  },
  {
   "cell_type": "code",
   "execution_count": 65,
   "metadata": {},
   "outputs": [
    {
     "ename": "KeyError",
     "evalue": "False",
     "output_type": "error",
     "traceback": [
      "\u001b[0;31m---------------------------------------------------------------------------\u001b[0m",
      "\u001b[0;31mKeyError\u001b[0m                                  Traceback (most recent call last)",
      "\u001b[1;32m/Users/shubhigupta/Documents/GitHub/real-time-topic-modelling/proof_of_concept/netflix_reviews.ipynb Cell 13\u001b[0m line \u001b[0;36m2\n\u001b[1;32m      <a href='vscode-notebook-cell:/Users/shubhigupta/Documents/GitHub/real-time-topic-modelling/proof_of_concept/netflix_reviews.ipynb#X20sZmlsZQ%3D%3D?line=0'>1</a>\u001b[0m \u001b[39m# Display sample reviews for a specific topic\u001b[39;00m\n\u001b[0;32m----> <a href='vscode-notebook-cell:/Users/shubhigupta/Documents/GitHub/real-time-topic-modelling/proof_of_concept/netflix_reviews.ipynb#X20sZmlsZQ%3D%3D?line=1'>2</a>\u001b[0m topic_reviews \u001b[39m=\u001b[39m df_sample\u001b[39m.\u001b[39;49mloc[topics \u001b[39m==\u001b[39;49m \u001b[39m1\u001b[39;49m, \u001b[39m'\u001b[39;49m\u001b[39mcontent\u001b[39;49m\u001b[39m'\u001b[39;49m]\u001b[39m.\u001b[39mhead(\u001b[39m10\u001b[39m)\n\u001b[1;32m      <a href='vscode-notebook-cell:/Users/shubhigupta/Documents/GitHub/real-time-topic-modelling/proof_of_concept/netflix_reviews.ipynb#X20sZmlsZQ%3D%3D?line=2'>3</a>\u001b[0m \u001b[39mprint\u001b[39m(\u001b[39m\"\u001b[39m\u001b[39mSample Reviews for Topic 1:\u001b[39m\u001b[39m\\n\u001b[39;00m\u001b[39m\"\u001b[39m, topic_reviews)\n",
      "File \u001b[0;32m~/Documents/GitHub/real-time-topic-modelling/venv/lib/python3.12/site-packages/pandas/core/indexing.py:1183\u001b[0m, in \u001b[0;36m_LocationIndexer.__getitem__\u001b[0;34m(self, key)\u001b[0m\n\u001b[1;32m   1181\u001b[0m     key \u001b[39m=\u001b[39m \u001b[39mtuple\u001b[39m(com\u001b[39m.\u001b[39mapply_if_callable(x, \u001b[39mself\u001b[39m\u001b[39m.\u001b[39mobj) \u001b[39mfor\u001b[39;00m x \u001b[39min\u001b[39;00m key)\n\u001b[1;32m   1182\u001b[0m     \u001b[39mif\u001b[39;00m \u001b[39mself\u001b[39m\u001b[39m.\u001b[39m_is_scalar_access(key):\n\u001b[0;32m-> 1183\u001b[0m         \u001b[39mreturn\u001b[39;00m \u001b[39mself\u001b[39;49m\u001b[39m.\u001b[39;49mobj\u001b[39m.\u001b[39;49m_get_value(\u001b[39m*\u001b[39;49mkey, takeable\u001b[39m=\u001b[39;49m\u001b[39mself\u001b[39;49m\u001b[39m.\u001b[39;49m_takeable)\n\u001b[1;32m   1184\u001b[0m     \u001b[39mreturn\u001b[39;00m \u001b[39mself\u001b[39m\u001b[39m.\u001b[39m_getitem_tuple(key)\n\u001b[1;32m   1185\u001b[0m \u001b[39melse\u001b[39;00m:\n\u001b[1;32m   1186\u001b[0m     \u001b[39m# we by definition only have the 0th axis\u001b[39;00m\n",
      "File \u001b[0;32m~/Documents/GitHub/real-time-topic-modelling/venv/lib/python3.12/site-packages/pandas/core/frame.py:4221\u001b[0m, in \u001b[0;36mDataFrame._get_value\u001b[0;34m(self, index, col, takeable)\u001b[0m\n\u001b[1;32m   4215\u001b[0m engine \u001b[39m=\u001b[39m \u001b[39mself\u001b[39m\u001b[39m.\u001b[39mindex\u001b[39m.\u001b[39m_engine\n\u001b[1;32m   4217\u001b[0m \u001b[39mif\u001b[39;00m \u001b[39mnot\u001b[39;00m \u001b[39misinstance\u001b[39m(\u001b[39mself\u001b[39m\u001b[39m.\u001b[39mindex, MultiIndex):\n\u001b[1;32m   4218\u001b[0m     \u001b[39m# CategoricalIndex: Trying to use the engine fastpath may give incorrect\u001b[39;00m\n\u001b[1;32m   4219\u001b[0m     \u001b[39m#  results if our categories are integers that dont match our codes\u001b[39;00m\n\u001b[1;32m   4220\u001b[0m     \u001b[39m# IntervalIndex: IntervalTree has no get_loc\u001b[39;00m\n\u001b[0;32m-> 4221\u001b[0m     row \u001b[39m=\u001b[39m \u001b[39mself\u001b[39;49m\u001b[39m.\u001b[39;49mindex\u001b[39m.\u001b[39;49mget_loc(index)\n\u001b[1;32m   4222\u001b[0m     \u001b[39mreturn\u001b[39;00m series\u001b[39m.\u001b[39m_values[row]\n\u001b[1;32m   4224\u001b[0m \u001b[39m# For MultiIndex going through engine effectively restricts us to\u001b[39;00m\n\u001b[1;32m   4225\u001b[0m \u001b[39m#  same-length tuples; see test_get_set_value_no_partial_indexing\u001b[39;00m\n",
      "File \u001b[0;32m~/Documents/GitHub/real-time-topic-modelling/venv/lib/python3.12/site-packages/pandas/core/indexes/range.py:417\u001b[0m, in \u001b[0;36mRangeIndex.get_loc\u001b[0;34m(self, key)\u001b[0m\n\u001b[1;32m    415\u001b[0m         \u001b[39mraise\u001b[39;00m \u001b[39mKeyError\u001b[39;00m(key) \u001b[39mfrom\u001b[39;00m \u001b[39merr\u001b[39;00m\n\u001b[1;32m    416\u001b[0m \u001b[39mif\u001b[39;00m \u001b[39misinstance\u001b[39m(key, Hashable):\n\u001b[0;32m--> 417\u001b[0m     \u001b[39mraise\u001b[39;00m \u001b[39mKeyError\u001b[39;00m(key)\n\u001b[1;32m    418\u001b[0m \u001b[39mself\u001b[39m\u001b[39m.\u001b[39m_check_indexing_error(key)\n\u001b[1;32m    419\u001b[0m \u001b[39mraise\u001b[39;00m \u001b[39mKeyError\u001b[39;00m(key)\n",
      "\u001b[0;31mKeyError\u001b[0m: False"
     ]
    }
   ],
   "source": [
    "# Display sample reviews for a specific topic\n",
    "topic_reviews = df_sample.loc[topics == 1, 'content'].head(10)\n",
    "print(\"Sample Reviews for Topic 1:\\n\", topic_reviews)"
   ]
  },
  {
   "cell_type": "code",
   "execution_count": null,
   "metadata": {},
   "outputs": [],
   "source": []
  }
 ],
 "metadata": {
  "kernelspec": {
   "display_name": "venv",
   "language": "python",
   "name": "python3"
  },
  "language_info": {
   "codemirror_mode": {
    "name": "ipython",
    "version": 3
   },
   "file_extension": ".py",
   "mimetype": "text/x-python",
   "name": "python",
   "nbconvert_exporter": "python",
   "pygments_lexer": "ipython3",
   "version": "3.12.3"
  }
 },
 "nbformat": 4,
 "nbformat_minor": 2
}
